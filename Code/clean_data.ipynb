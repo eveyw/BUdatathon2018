{
 "cells": [
  {
   "cell_type": "markdown",
   "metadata": {},
   "source": [
    "### data clean in complete file"
   ]
  },
  {
   "cell_type": "code",
   "execution_count": 125,
   "metadata": {},
   "outputs": [],
   "source": [
    "import numpy as np\n",
    "import pandas as pd\n",
    "import math as m\n",
    "import csv\n",
    "\n",
    "#input file\n",
    "filename = '351Bing_Complete.csv'\n",
    "complete = pd.read_csv(filename)\n",
    "\n",
    "#complete.head()\n",
    "#type(complete)\n",
    "        \n",
    "del complete['Address']\n",
    "df = complete.dropna()\n",
    "df = complete[complete['Date'] != 0]\n",
    "df.to_csv('351Bing_Complete_Modified.csv')\n",
    "\n",
    "\n",
    "\n",
    "  \n",
    "\n",
    "\n"
   ]
  },
  {
   "cell_type": "markdown",
   "metadata": {},
   "source": [
    "### data clean in incomplete file"
   ]
  },
  {
   "cell_type": "code",
   "execution_count": null,
   "metadata": {},
   "outputs": [],
   "source": [
    "import pandas as pd\n",
    "import numpy as np\n",
    "#import matplotlib.pyplot as plt\n",
    "#import seaborn as sns\n",
    "#%matplotlib inline\n",
    "\n",
    "complete_df = pd.read_csv('351Bing_Complete.csv')\n",
    "incomplete_df = pd.read_csv('537Bing_Incomplete.csv')\n",
    "\n",
    "# insert a new zipcode colunm\n",
    "incomplete_df.insert(0, 'Zipcode', 0)\n",
    "\n",
    "for index_out, row_out in incomplete_df.iterrows():\n",
    "    for index_in, row_in in complete_df.iterrows():\n",
    "        if (row_out[\"Address\"] == row_in[\"Address\"]):\n",
    "            incomplete_df.loc[index_out,'Zipcode'] =  complete_df.loc[index_in,'Zipcode']\n",
    "            break\n",
    "\n",
    "\n"
   ]
  },
  {
   "cell_type": "code",
   "execution_count": null,
   "metadata": {},
   "outputs": [],
   "source": []
  },
  {
   "cell_type": "code",
   "execution_count": null,
   "metadata": {},
   "outputs": [],
   "source": []
  },
  {
   "cell_type": "code",
   "execution_count": null,
   "metadata": {},
   "outputs": [],
   "source": []
  },
  {
   "cell_type": "code",
   "execution_count": null,
   "metadata": {},
   "outputs": [],
   "source": []
  },
  {
   "cell_type": "code",
   "execution_count": null,
   "metadata": {},
   "outputs": [],
   "source": []
  },
  {
   "cell_type": "code",
   "execution_count": null,
   "metadata": {},
   "outputs": [],
   "source": []
  }
 ],
 "metadata": {
  "kernelspec": {
   "display_name": "Python 3",
   "language": "python",
   "name": "python3"
  },
  "language_info": {
   "codemirror_mode": {
    "name": "ipython",
    "version": 3
   },
   "file_extension": ".py",
   "mimetype": "text/x-python",
   "name": "python",
   "nbconvert_exporter": "python",
   "pygments_lexer": "ipython3",
   "version": "3.6.4"
  }
 },
 "nbformat": 4,
 "nbformat_minor": 2
}
